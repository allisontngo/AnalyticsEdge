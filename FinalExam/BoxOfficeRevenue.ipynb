{
 "cells": [
  {
   "cell_type": "code",
   "execution_count": 25,
   "metadata": {
    "collapsed": true
   },
   "outputs": [],
   "source": [
    "# Predicting Box Office Revenue\n",
    "import pandas as pd\n",
    "from sklearn import linear_model\n",
    "from sklearn import tree\n",
    "from sklearn import cross_validation\n",
    "from sklearn.metrics import accuracy_score\n",
    "#import scipy\n",
    "import numpy as np\n",
    "import statsmodels.api as sm\n",
    "import statsmodels.formula.api as smf"
   ]
  },
  {
   "cell_type": "code",
   "execution_count": 2,
   "metadata": {
    "collapsed": true
   },
   "outputs": [
    {
     "data": {
      "text/html": [
       "<table class=\"simpletable\">\n",
       "<caption>OLS Regression Results</caption>\n",
       "<tr>\n",
       "  <th>Dep. Variable:</th>        <td>Worldwide</td>    <th>  R-squared:         </th> <td>   0.541</td>\n",
       "</tr>\n",
       "<tr>\n",
       "  <th>Model:</th>                   <td>OLS</td>       <th>  Adj. R-squared:    </th> <td>   0.490</td>\n",
       "</tr>\n",
       "<tr>\n",
       "  <th>Method:</th>             <td>Least Squares</td>  <th>  F-statistic:       </th> <td>   10.48</td>\n",
       "</tr>\n",
       "<tr>\n",
       "  <th>Date:</th>             <td>Thu, 20 Aug 2015</td> <th>  Prob (F-statistic):</th> <td>1.15e-25</td>\n",
       "</tr>\n",
       "<tr>\n",
       "  <th>Time:</th>                 <td>11:16:17</td>     <th>  Log-Likelihood:    </th> <td> -228.67</td>\n",
       "</tr>\n",
       "<tr>\n",
       "  <th>No. Observations:</th>      <td>   248</td>      <th>  AIC:               </th> <td>   509.3</td>\n",
       "</tr>\n",
       "<tr>\n",
       "  <th>Df Residuals:</th>          <td>   222</td>      <th>  BIC:               </th> <td>   600.7</td>\n",
       "</tr>\n",
       "<tr>\n",
       "  <th>Df Model:</th>              <td>    25</td>      <th>                     </th>     <td> </td>   \n",
       "</tr>\n",
       "</table>\n",
       "<table class=\"simpletable\">\n",
       "<tr>\n",
       "          <td></td>             <th>coef</th>     <th>std err</th>      <th>t</th>      <th>P>|t|</th> <th>[95.0% Conf. Int.]</th> \n",
       "</tr>\n",
       "<tr>\n",
       "  <th>Intercept</th>         <td>   15.9977</td> <td>    1.158</td> <td>   13.815</td> <td> 0.000</td> <td>   13.716    18.280</td>\n",
       "</tr>\n",
       "<tr>\n",
       "  <th>C(Rated)[T.G]</th>     <td>    0.4102</td> <td>    0.704</td> <td>    0.583</td> <td> 0.561</td> <td>   -0.977     1.798</td>\n",
       "</tr>\n",
       "<tr>\n",
       "  <th>C(Rated)[T.NA]</th>    <td>    0.5562</td> <td>    0.732</td> <td>    0.760</td> <td> 0.448</td> <td>   -0.887     1.999</td>\n",
       "</tr>\n",
       "<tr>\n",
       "  <th>C(Rated)[T.PG]</th>    <td>    0.7091</td> <td>    0.689</td> <td>    1.029</td> <td> 0.305</td> <td>   -0.649     2.067</td>\n",
       "</tr>\n",
       "<tr>\n",
       "  <th>C(Rated)[T.PG-13]</th> <td>    0.6028</td> <td>    0.711</td> <td>    0.848</td> <td> 0.397</td> <td>   -0.798     2.003</td>\n",
       "</tr>\n",
       "<tr>\n",
       "  <th>C(Rated)[T.R]</th>     <td>    0.4128</td> <td>    0.721</td> <td>    0.572</td> <td> 0.568</td> <td>   -1.008     1.834</td>\n",
       "</tr>\n",
       "<tr>\n",
       "  <th>Action</th>            <td>    0.0172</td> <td>    0.133</td> <td>    0.129</td> <td> 0.897</td> <td>   -0.246     0.280</td>\n",
       "</tr>\n",
       "<tr>\n",
       "  <th>Adventure</th>         <td>   -0.2232</td> <td>    0.128</td> <td>   -1.739</td> <td> 0.083</td> <td>   -0.476     0.030</td>\n",
       "</tr>\n",
       "<tr>\n",
       "  <th>Animation</th>         <td>    0.6117</td> <td>    0.209</td> <td>    2.933</td> <td> 0.004</td> <td>    0.201     1.023</td>\n",
       "</tr>\n",
       "<tr>\n",
       "  <th>Comedy</th>            <td>   -0.1431</td> <td>    0.161</td> <td>   -0.888</td> <td> 0.375</td> <td>   -0.461     0.174</td>\n",
       "</tr>\n",
       "<tr>\n",
       "  <th>Crime</th>             <td>   -0.3316</td> <td>    0.147</td> <td>   -2.250</td> <td> 0.025</td> <td>   -0.622    -0.041</td>\n",
       "</tr>\n",
       "<tr>\n",
       "  <th>Documentary</th>       <td>   -0.4481</td> <td>    0.483</td> <td>   -0.928</td> <td> 0.355</td> <td>   -1.400     0.504</td>\n",
       "</tr>\n",
       "<tr>\n",
       "  <th>Drama</th>             <td>   -0.2098</td> <td>    0.188</td> <td>   -1.115</td> <td> 0.266</td> <td>   -0.581     0.161</td>\n",
       "</tr>\n",
       "<tr>\n",
       "  <th>Family</th>            <td>   -0.3207</td> <td>    0.178</td> <td>   -1.801</td> <td> 0.073</td> <td>   -0.672     0.030</td>\n",
       "</tr>\n",
       "<tr>\n",
       "  <th>Fantasy</th>           <td>    0.1635</td> <td>    0.141</td> <td>    1.163</td> <td> 0.246</td> <td>   -0.114     0.441</td>\n",
       "</tr>\n",
       "<tr>\n",
       "  <th>History</th>           <td>   -1.3823</td> <td>    0.688</td> <td>   -2.010</td> <td> 0.046</td> <td>   -2.738    -0.027</td>\n",
       "</tr>\n",
       "<tr>\n",
       "  <th>Horror</th>            <td>   -0.6174</td> <td>    0.206</td> <td>   -3.002</td> <td> 0.003</td> <td>   -1.023    -0.212</td>\n",
       "</tr>\n",
       "<tr>\n",
       "  <th>Music</th>             <td>   -0.1532</td> <td>    0.686</td> <td>   -0.223</td> <td> 0.824</td> <td>   -1.505     1.199</td>\n",
       "</tr>\n",
       "<tr>\n",
       "  <th>Mystery</th>           <td>    0.1454</td> <td>    0.184</td> <td>    0.791</td> <td> 0.430</td> <td>   -0.217     0.508</td>\n",
       "</tr>\n",
       "<tr>\n",
       "  <th>Nominations</th>       <td>    0.0160</td> <td>    0.004</td> <td>    3.655</td> <td> 0.000</td> <td>    0.007     0.025</td>\n",
       "</tr>\n",
       "<tr>\n",
       "  <th>ProductionBudget</th>  <td>    0.1104</td> <td>    0.055</td> <td>    2.007</td> <td> 0.046</td> <td>    0.002     0.219</td>\n",
       "</tr>\n",
       "<tr>\n",
       "  <th>Romance</th>           <td>   -0.0449</td> <td>    0.206</td> <td>   -0.218</td> <td> 0.828</td> <td>   -0.452     0.362</td>\n",
       "</tr>\n",
       "<tr>\n",
       "  <th>Runtime</th>           <td>    0.0097</td> <td>    0.003</td> <td>    3.000</td> <td> 0.003</td> <td>    0.003     0.016</td>\n",
       "</tr>\n",
       "<tr>\n",
       "  <th>SciFi</th>             <td>   -0.0147</td> <td>    0.135</td> <td>   -0.109</td> <td> 0.913</td> <td>   -0.281     0.252</td>\n",
       "</tr>\n",
       "<tr>\n",
       "  <th>Thriller</th>          <td>   -0.1068</td> <td>    0.136</td> <td>   -0.783</td> <td> 0.435</td> <td>   -0.376     0.162</td>\n",
       "</tr>\n",
       "<tr>\n",
       "  <th>Wins</th>              <td>    0.0004</td> <td>    0.004</td> <td>    0.093</td> <td> 0.926</td> <td>   -0.008     0.008</td>\n",
       "</tr>\n",
       "</table>\n",
       "<table class=\"simpletable\">\n",
       "<tr>\n",
       "  <th>Omnibus:</th>       <td> 5.872</td> <th>  Durbin-Watson:     </th> <td>   1.374</td>\n",
       "</tr>\n",
       "<tr>\n",
       "  <th>Prob(Omnibus):</th> <td> 0.053</td> <th>  Jarque-Bera (JB):  </th> <td>   5.566</td>\n",
       "</tr>\n",
       "<tr>\n",
       "  <th>Skew:</th>          <td>-0.330</td> <th>  Prob(JB):          </th> <td>  0.0619</td>\n",
       "</tr>\n",
       "<tr>\n",
       "  <th>Kurtosis:</th>      <td> 3.322</td> <th>  Cond. No.          </th> <td>5.08e+03</td>\n",
       "</tr>\n",
       "</table>"
      ],
      "text/plain": [
       "<class 'statsmodels.iolib.summary.Summary'>\n",
       "\"\"\"\n",
       "                            OLS Regression Results                            \n",
       "==============================================================================\n",
       "Dep. Variable:              Worldwide   R-squared:                       0.541\n",
       "Model:                            OLS   Adj. R-squared:                  0.490\n",
       "Method:                 Least Squares   F-statistic:                     10.48\n",
       "Date:                Thu, 20 Aug 2015   Prob (F-statistic):           1.15e-25\n",
       "Time:                        11:16:17   Log-Likelihood:                -228.67\n",
       "No. Observations:                 248   AIC:                             509.3\n",
       "Df Residuals:                     222   BIC:                             600.7\n",
       "Df Model:                          25                                         \n",
       "=====================================================================================\n",
       "                        coef    std err          t      P>|t|      [95.0% Conf. Int.]\n",
       "-------------------------------------------------------------------------------------\n",
       "Intercept            15.9977      1.158     13.815      0.000        13.716    18.280\n",
       "C(Rated)[T.G]         0.4102      0.704      0.583      0.561        -0.977     1.798\n",
       "C(Rated)[T.NA]        0.5562      0.732      0.760      0.448        -0.887     1.999\n",
       "C(Rated)[T.PG]        0.7091      0.689      1.029      0.305        -0.649     2.067\n",
       "C(Rated)[T.PG-13]     0.6028      0.711      0.848      0.397        -0.798     2.003\n",
       "C(Rated)[T.R]         0.4128      0.721      0.572      0.568        -1.008     1.834\n",
       "Action                0.0172      0.133      0.129      0.897        -0.246     0.280\n",
       "Adventure            -0.2232      0.128     -1.739      0.083        -0.476     0.030\n",
       "Animation             0.6117      0.209      2.933      0.004         0.201     1.023\n",
       "Comedy               -0.1431      0.161     -0.888      0.375        -0.461     0.174\n",
       "Crime                -0.3316      0.147     -2.250      0.025        -0.622    -0.041\n",
       "Documentary          -0.4481      0.483     -0.928      0.355        -1.400     0.504\n",
       "Drama                -0.2098      0.188     -1.115      0.266        -0.581     0.161\n",
       "Family               -0.3207      0.178     -1.801      0.073        -0.672     0.030\n",
       "Fantasy               0.1635      0.141      1.163      0.246        -0.114     0.441\n",
       "History              -1.3823      0.688     -2.010      0.046        -2.738    -0.027\n",
       "Horror               -0.6174      0.206     -3.002      0.003        -1.023    -0.212\n",
       "Music                -0.1532      0.686     -0.223      0.824        -1.505     1.199\n",
       "Mystery               0.1454      0.184      0.791      0.430        -0.217     0.508\n",
       "Nominations           0.0160      0.004      3.655      0.000         0.007     0.025\n",
       "ProductionBudget      0.1104      0.055      2.007      0.046         0.002     0.219\n",
       "Romance              -0.0449      0.206     -0.218      0.828        -0.452     0.362\n",
       "Runtime               0.0097      0.003      3.000      0.003         0.003     0.016\n",
       "SciFi                -0.0147      0.135     -0.109      0.913        -0.281     0.252\n",
       "Thriller             -0.1068      0.136     -0.783      0.435        -0.376     0.162\n",
       "Wins                  0.0004      0.004      0.093      0.926        -0.008     0.008\n",
       "==============================================================================\n",
       "Omnibus:                        5.872   Durbin-Watson:                   1.374\n",
       "Prob(Omnibus):                  0.053   Jarque-Bera (JB):                5.566\n",
       "Skew:                          -0.330   Prob(JB):                       0.0619\n",
       "Kurtosis:                       3.322   Cond. No.                     5.08e+03\n",
       "==============================================================================\n",
       "\n",
       "Warnings:\n",
       "[1] The condition number is large, 5.08e+03. This might indicate that there are\n",
       "strong multicollinearity or other numerical problems.\n",
       "\"\"\""
      ]
     },
     "execution_count": 2,
     "metadata": {},
     "output_type": "execute_result"
    }
   ],
   "source": [
    "# using statsmodels formula api\n",
    "movies = pd.read_csv('data/Movies.csv')\n",
    "movies.rename(columns ={'Sci.Fi': 'SciFi', 'Production.Budget': 'ProductionBudget'}, inplace=True)\n",
    "movies.Rated = movies.Rated.replace(np.nan, 'NA')\n",
    "\n",
    "trainf = movies[movies.Year < 2010]\n",
    "testf = movies[movies.Year >= 2010]\n",
    "\n",
    "form = 'Worldwide ~ C(Rated) + ' + \\\n",
    "       ' + '.join(np.setdiff1d(trainf.columns.values, np.array(['Rated', 'Worldwide', 'Name', 'Year'])))\n",
    "\n",
    "resultsf = smf.ols(form, data=trainf).fit()\n",
    "resultsf.summary()"
   ]
  },
  {
   "cell_type": "code",
   "execution_count": 3,
   "metadata": {
    "collapsed": false,
    "scrolled": true
   },
   "outputs": [
    {
     "data": {
      "text/plain": [
       "(25.000599780719131, 60.433977364224546, 0.58631549881211553)"
      ]
     },
     "execution_count": 3,
     "metadata": {},
     "output_type": "execute_result"
    }
   ],
   "source": [
    "form2 = 'Worldwide ~ ' + ' + '.join(resultsf.pvalues[resultsf.pvalues < 0.05].index[1:])\n",
    "resultsf2 = smf.ols(form2, data=trainf).fit()\n",
    "pred = resultsf2.predict(testf)\n",
    "sse = sum((pred - testf.Worldwide.values)**2)\n",
    "# mean of training set - actual values\n",
    "sst = sum((trainf.Worldwide.values.mean() - testf.Worldwide.values)**2) \n",
    "r2 = 1- (sse/sst)\n",
    "(sse, sst, r2)"
   ]
  },
  {
   "cell_type": "code",
   "execution_count": 4,
   "metadata": {
    "collapsed": false
   },
   "outputs": [],
   "source": [
    "def perf_helper(x):\n",
    "    if x >= movies.Worldwide.quantile(.75): return 'Excellent'\n",
    "    elif x >= movies.Worldwide.quantile(.25): return 'Average'\n",
    "    else: return 'Poor'\n",
    "movies['Performance'] = movies.Worldwide.map(lambda x: perf_helper(x))"
   ]
  },
  {
   "cell_type": "code",
   "execution_count": 6,
   "metadata": {
    "collapsed": false,
    "scrolled": true
   },
   "outputs": [
    {
     "data": {
      "text/html": [
       "<table class=\"simpletable\">\n",
       "<caption>OLS Regression Results</caption>\n",
       "<tr>\n",
       "  <th>Dep. Variable:</th>        <td>Worldwide</td>    <th>  R-squared:         </th> <td>   0.541</td>\n",
       "</tr>\n",
       "<tr>\n",
       "  <th>Model:</th>                   <td>OLS</td>       <th>  Adj. R-squared:    </th> <td>   0.490</td>\n",
       "</tr>\n",
       "<tr>\n",
       "  <th>Method:</th>             <td>Least Squares</td>  <th>  F-statistic:       </th> <td>   10.48</td>\n",
       "</tr>\n",
       "<tr>\n",
       "  <th>Date:</th>             <td>Thu, 20 Aug 2015</td> <th>  Prob (F-statistic):</th> <td>1.15e-25</td>\n",
       "</tr>\n",
       "<tr>\n",
       "  <th>Time:</th>                 <td>11:16:35</td>     <th>  Log-Likelihood:    </th> <td> -228.67</td>\n",
       "</tr>\n",
       "<tr>\n",
       "  <th>No. Observations:</th>      <td>   248</td>      <th>  AIC:               </th> <td>   509.3</td>\n",
       "</tr>\n",
       "<tr>\n",
       "  <th>Df Residuals:</th>          <td>   222</td>      <th>  BIC:               </th> <td>   600.7</td>\n",
       "</tr>\n",
       "<tr>\n",
       "  <th>Df Model:</th>              <td>    25</td>      <th>                     </th>     <td> </td>   \n",
       "</tr>\n",
       "</table>\n",
       "<table class=\"simpletable\">\n",
       "<tr>\n",
       "          <td></td>            <th>coef</th>     <th>std err</th>      <th>t</th>      <th>P>|t|</th> <th>[95.0% Conf. Int.]</th> \n",
       "</tr>\n",
       "<tr>\n",
       "  <th>Action</th>           <td>    0.0172</td> <td>    0.133</td> <td>    0.129</td> <td> 0.897</td> <td>   -0.246     0.280</td>\n",
       "</tr>\n",
       "<tr>\n",
       "  <th>Adventure</th>        <td>   -0.2232</td> <td>    0.128</td> <td>   -1.739</td> <td> 0.083</td> <td>   -0.476     0.030</td>\n",
       "</tr>\n",
       "<tr>\n",
       "  <th>Animation</th>        <td>    0.6117</td> <td>    0.209</td> <td>    2.933</td> <td> 0.004</td> <td>    0.201     1.023</td>\n",
       "</tr>\n",
       "<tr>\n",
       "  <th>Comedy</th>           <td>   -0.1431</td> <td>    0.161</td> <td>   -0.888</td> <td> 0.375</td> <td>   -0.461     0.174</td>\n",
       "</tr>\n",
       "<tr>\n",
       "  <th>Crime</th>            <td>   -0.3316</td> <td>    0.147</td> <td>   -2.250</td> <td> 0.025</td> <td>   -0.622    -0.041</td>\n",
       "</tr>\n",
       "<tr>\n",
       "  <th>Documentary</th>      <td>   -0.4481</td> <td>    0.483</td> <td>   -0.928</td> <td> 0.355</td> <td>   -1.400     0.504</td>\n",
       "</tr>\n",
       "<tr>\n",
       "  <th>Drama</th>            <td>   -0.2098</td> <td>    0.188</td> <td>   -1.115</td> <td> 0.266</td> <td>   -0.581     0.161</td>\n",
       "</tr>\n",
       "<tr>\n",
       "  <th>Family</th>           <td>   -0.3207</td> <td>    0.178</td> <td>   -1.801</td> <td> 0.073</td> <td>   -0.672     0.030</td>\n",
       "</tr>\n",
       "<tr>\n",
       "  <th>Fantasy</th>          <td>    0.1635</td> <td>    0.141</td> <td>    1.163</td> <td> 0.246</td> <td>   -0.114     0.441</td>\n",
       "</tr>\n",
       "<tr>\n",
       "  <th>History</th>          <td>   -1.3823</td> <td>    0.688</td> <td>   -2.010</td> <td> 0.046</td> <td>   -2.738    -0.027</td>\n",
       "</tr>\n",
       "<tr>\n",
       "  <th>Horror</th>           <td>   -0.6174</td> <td>    0.206</td> <td>   -3.002</td> <td> 0.003</td> <td>   -1.023    -0.212</td>\n",
       "</tr>\n",
       "<tr>\n",
       "  <th>Music</th>            <td>   -0.1532</td> <td>    0.686</td> <td>   -0.223</td> <td> 0.824</td> <td>   -1.505     1.199</td>\n",
       "</tr>\n",
       "<tr>\n",
       "  <th>Mystery</th>          <td>    0.1454</td> <td>    0.184</td> <td>    0.791</td> <td> 0.430</td> <td>   -0.217     0.508</td>\n",
       "</tr>\n",
       "<tr>\n",
       "  <th>Nominations</th>      <td>    0.0160</td> <td>    0.004</td> <td>    3.655</td> <td> 0.000</td> <td>    0.007     0.025</td>\n",
       "</tr>\n",
       "<tr>\n",
       "  <th>ProductionBudget</th> <td>    0.1104</td> <td>    0.055</td> <td>    2.007</td> <td> 0.046</td> <td>    0.002     0.219</td>\n",
       "</tr>\n",
       "<tr>\n",
       "  <th>Rated_G</th>          <td>    0.4102</td> <td>    0.704</td> <td>    0.583</td> <td> 0.561</td> <td>   -0.977     1.798</td>\n",
       "</tr>\n",
       "<tr>\n",
       "  <th>Rated_NA</th>         <td>    0.5562</td> <td>    0.732</td> <td>    0.760</td> <td> 0.448</td> <td>   -0.887     1.999</td>\n",
       "</tr>\n",
       "<tr>\n",
       "  <th>Rated_PG</th>         <td>    0.7091</td> <td>    0.689</td> <td>    1.029</td> <td> 0.305</td> <td>   -0.649     2.067</td>\n",
       "</tr>\n",
       "<tr>\n",
       "  <th>Rated_PG-13</th>      <td>    0.6028</td> <td>    0.711</td> <td>    0.848</td> <td> 0.397</td> <td>   -0.798     2.003</td>\n",
       "</tr>\n",
       "<tr>\n",
       "  <th>Rated_R</th>          <td>    0.4128</td> <td>    0.721</td> <td>    0.572</td> <td> 0.568</td> <td>   -1.008     1.834</td>\n",
       "</tr>\n",
       "<tr>\n",
       "  <th>Romance</th>          <td>   -0.0449</td> <td>    0.206</td> <td>   -0.218</td> <td> 0.828</td> <td>   -0.452     0.362</td>\n",
       "</tr>\n",
       "<tr>\n",
       "  <th>Runtime</th>          <td>    0.0097</td> <td>    0.003</td> <td>    3.000</td> <td> 0.003</td> <td>    0.003     0.016</td>\n",
       "</tr>\n",
       "<tr>\n",
       "  <th>SciFi</th>            <td>   -0.0147</td> <td>    0.135</td> <td>   -0.109</td> <td> 0.913</td> <td>   -0.281     0.252</td>\n",
       "</tr>\n",
       "<tr>\n",
       "  <th>Thriller</th>         <td>   -0.1068</td> <td>    0.136</td> <td>   -0.783</td> <td> 0.435</td> <td>   -0.376     0.162</td>\n",
       "</tr>\n",
       "<tr>\n",
       "  <th>Wins</th>             <td>    0.0004</td> <td>    0.004</td> <td>    0.093</td> <td> 0.926</td> <td>   -0.008     0.008</td>\n",
       "</tr>\n",
       "<tr>\n",
       "  <th>const</th>            <td>   15.9977</td> <td>    1.158</td> <td>   13.815</td> <td> 0.000</td> <td>   13.716    18.280</td>\n",
       "</tr>\n",
       "</table>\n",
       "<table class=\"simpletable\">\n",
       "<tr>\n",
       "  <th>Omnibus:</th>       <td> 5.872</td> <th>  Durbin-Watson:     </th> <td>   1.374</td>\n",
       "</tr>\n",
       "<tr>\n",
       "  <th>Prob(Omnibus):</th> <td> 0.053</td> <th>  Jarque-Bera (JB):  </th> <td>   5.566</td>\n",
       "</tr>\n",
       "<tr>\n",
       "  <th>Skew:</th>          <td>-0.330</td> <th>  Prob(JB):          </th> <td>  0.0619</td>\n",
       "</tr>\n",
       "<tr>\n",
       "  <th>Kurtosis:</th>      <td> 3.322</td> <th>  Cond. No.          </th> <td>5.08e+03</td>\n",
       "</tr>\n",
       "</table>"
      ],
      "text/plain": [
       "<class 'statsmodels.iolib.summary.Summary'>\n",
       "\"\"\"\n",
       "                            OLS Regression Results                            \n",
       "==============================================================================\n",
       "Dep. Variable:              Worldwide   R-squared:                       0.541\n",
       "Model:                            OLS   Adj. R-squared:                  0.490\n",
       "Method:                 Least Squares   F-statistic:                     10.48\n",
       "Date:                Thu, 20 Aug 2015   Prob (F-statistic):           1.15e-25\n",
       "Time:                        11:16:35   Log-Likelihood:                -228.67\n",
       "No. Observations:                 248   AIC:                             509.3\n",
       "Df Residuals:                     222   BIC:                             600.7\n",
       "Df Model:                          25                                         \n",
       "====================================================================================\n",
       "                       coef    std err          t      P>|t|      [95.0% Conf. Int.]\n",
       "------------------------------------------------------------------------------------\n",
       "Action               0.0172      0.133      0.129      0.897        -0.246     0.280\n",
       "Adventure           -0.2232      0.128     -1.739      0.083        -0.476     0.030\n",
       "Animation            0.6117      0.209      2.933      0.004         0.201     1.023\n",
       "Comedy              -0.1431      0.161     -0.888      0.375        -0.461     0.174\n",
       "Crime               -0.3316      0.147     -2.250      0.025        -0.622    -0.041\n",
       "Documentary         -0.4481      0.483     -0.928      0.355        -1.400     0.504\n",
       "Drama               -0.2098      0.188     -1.115      0.266        -0.581     0.161\n",
       "Family              -0.3207      0.178     -1.801      0.073        -0.672     0.030\n",
       "Fantasy              0.1635      0.141      1.163      0.246        -0.114     0.441\n",
       "History             -1.3823      0.688     -2.010      0.046        -2.738    -0.027\n",
       "Horror              -0.6174      0.206     -3.002      0.003        -1.023    -0.212\n",
       "Music               -0.1532      0.686     -0.223      0.824        -1.505     1.199\n",
       "Mystery              0.1454      0.184      0.791      0.430        -0.217     0.508\n",
       "Nominations          0.0160      0.004      3.655      0.000         0.007     0.025\n",
       "ProductionBudget     0.1104      0.055      2.007      0.046         0.002     0.219\n",
       "Rated_G              0.4102      0.704      0.583      0.561        -0.977     1.798\n",
       "Rated_NA             0.5562      0.732      0.760      0.448        -0.887     1.999\n",
       "Rated_PG             0.7091      0.689      1.029      0.305        -0.649     2.067\n",
       "Rated_PG-13          0.6028      0.711      0.848      0.397        -0.798     2.003\n",
       "Rated_R              0.4128      0.721      0.572      0.568        -1.008     1.834\n",
       "Romance             -0.0449      0.206     -0.218      0.828        -0.452     0.362\n",
       "Runtime              0.0097      0.003      3.000      0.003         0.003     0.016\n",
       "SciFi               -0.0147      0.135     -0.109      0.913        -0.281     0.252\n",
       "Thriller            -0.1068      0.136     -0.783      0.435        -0.376     0.162\n",
       "Wins                 0.0004      0.004      0.093      0.926        -0.008     0.008\n",
       "const               15.9977      1.158     13.815      0.000        13.716    18.280\n",
       "==============================================================================\n",
       "Omnibus:                        5.872   Durbin-Watson:                   1.374\n",
       "Prob(Omnibus):                  0.053   Jarque-Bera (JB):                5.566\n",
       "Skew:                          -0.330   Prob(JB):                       0.0619\n",
       "Kurtosis:                       3.322   Cond. No.                     5.08e+03\n",
       "==============================================================================\n",
       "\n",
       "Warnings:\n",
       "[1] The condition number is large, 5.08e+03. This might indicate that there are\n",
       "strong multicollinearity or other numerical problems.\n",
       "\"\"\""
      ]
     },
     "execution_count": 6,
     "metadata": {},
     "output_type": "execute_result"
    }
   ],
   "source": [
    "# using sm.OLS(y, X)\n",
    "df = sm.add_constant(movies, prepend=False) \n",
    "\n",
    "# create three dummy variables using get_dummies, then exclude the first dummy column\n",
    "df.Rated = df.Rated.astype('category')\n",
    "_dummies = pd.get_dummies(df.Rated, prefix='Rated').iloc[:, 1:] \n",
    "\n",
    "# concatenate the dummy variable columns onto the original DataFrame (axis=0 means rows, axis=1 means columns)\n",
    "df = pd.concat([df, _dummies], axis=1) \n",
    "train = df[df.Year < 2010]\n",
    "test = df[df.Year >= 2010]\n",
    "\n",
    "col = np.setdiff1d(df.columns.values, np.array(['Rated', 'Worldwide', 'Name', 'Year', 'Performance']))\n",
    "results = sm.OLS(train.Worldwide, train[col]).fit()\n",
    "results.summary()"
   ]
  },
  {
   "cell_type": "code",
   "execution_count": 8,
   "metadata": {
    "collapsed": true
   },
   "outputs": [],
   "source": [
    "# Classification Tree\n",
    "df.drop(['Worldwide', 'const'], inplace = True, axis =1)\n",
    "trainP, testP = cross_validation.train_test_split(df, train_size=0.7, test_size=0.3, random_state=15071)\n",
    "clf = tree.DecisionTreeClassifier(min_samples_split=20)\n",
    "clf.fit(trainP.loc[:,np.setdiff1d(col, np.array(['const']))], trainP['Performance'])            "
   ]
  },
  {
   "cell_type": "code",
   "execution_count": 28,
   "metadata": {
    "collapsed": false
   },
   "outputs": [
    {
     "data": {
      "text/plain": [
       "0.80257510729613735"
      ]
     },
     "execution_count": 28,
     "metadata": {},
     "output_type": "execute_result"
    }
   ],
   "source": [
    "pred = clf.predict(trainP.loc[:,np.setdiff1d(col, np.array(['const']))])\n",
    "accuracy_score(pred, trainP['Performance'])\n",
    "# same as clf.score(trainP.loc[:,np.setdiff1d(col, np.array(['const']))],trainP['Performance']) <- slower"
   ]
  },
  {
   "cell_type": "code",
   "execution_count": 30,
   "metadata": {
    "collapsed": false
   },
   "outputs": [
    {
     "data": {
      "text/plain": [
       "0.71287128712871284"
      ]
     },
     "execution_count": 30,
     "metadata": {},
     "output_type": "execute_result"
    }
   ],
   "source": [
    "pred_test = clf.predict(testP.loc[:,np.setdiff1d(col, np.array(['const']))])\n",
    "accuracy_score(pred_test, testP['Performance'])"
   ]
  },
  {
   "cell_type": "code",
   "execution_count": 44,
   "metadata": {
    "collapsed": false,
    "scrolled": true
   },
   "outputs": [
    {
     "data": {
      "text/plain": [
       "0.48514851485148514"
      ]
     },
     "execution_count": 44,
     "metadata": {},
     "output_type": "execute_result"
    }
   ],
   "source": [
    "len(np.where(pred_test == 'Average')[0])/float(len(testP)) #baseline accuracy of most common test prediction"
   ]
  },
  {
   "cell_type": "code",
   "execution_count": null,
   "metadata": {
    "collapsed": true
   },
   "outputs": [],
   "source": []
  }
 ],
 "metadata": {
  "kernelspec": {
   "display_name": "Python 2",
   "language": "python",
   "name": "python2"
  },
  "language_info": {
   "codemirror_mode": {
    "name": "ipython",
    "version": 2
   },
   "file_extension": ".py",
   "mimetype": "text/x-python",
   "name": "python",
   "nbconvert_exporter": "python",
   "pygments_lexer": "ipython2",
   "version": "2.7.9"
  }
 },
 "nbformat": 4,
 "nbformat_minor": 0
}
