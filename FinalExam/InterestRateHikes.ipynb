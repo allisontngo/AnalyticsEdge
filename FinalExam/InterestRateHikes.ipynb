{
 "cells": [
  {
   "cell_type": "code",
   "execution_count": 1,
   "metadata": {
    "collapsed": false
   },
   "outputs": [],
   "source": [
    "# Forecasting Interest Rate Hikes by the U.S. Federal Reserve\n",
    "import pandas as pd\n",
    "from sklearn.cross_validation import train_test_split\n",
    "import statsmodels.api as sm\n",
    "import statsmodels.formula.api as smf\n",
    "from sklearn.linear_model import LogisticRegression\n",
    "import math\n",
    "import numpy as np"
   ]
  },
  {
   "cell_type": "code",
   "execution_count": 2,
   "metadata": {
    "collapsed": true
   },
   "outputs": [],
   "source": [
    "rates = pd.read_csv('data/federalFundsRate.csv')"
   ]
  },
  {
   "cell_type": "code",
   "execution_count": 3,
   "metadata": {
    "collapsed": false
   },
   "outputs": [
    {
     "data": {
      "text/html": [
       "<div style=\"max-height:1000px;max-width:1500px;overflow:auto;\">\n",
       "<table border=\"1\" class=\"dataframe\">\n",
       "  <thead>\n",
       "    <tr style=\"text-align: right;\">\n",
       "      <th></th>\n",
       "      <th>Date</th>\n",
       "      <th>Chairman</th>\n",
       "      <th>PreviousRate</th>\n",
       "      <th>Streak</th>\n",
       "      <th>GDP</th>\n",
       "      <th>Unemployment</th>\n",
       "      <th>CPI</th>\n",
       "      <th>HomeownershipRate</th>\n",
       "      <th>DebtAsPctGDP</th>\n",
       "      <th>DemocraticPres</th>\n",
       "      <th>MonthsUntilElection</th>\n",
       "      <th>RaisedFedFunds</th>\n",
       "    </tr>\n",
       "  </thead>\n",
       "  <tbody>\n",
       "    <tr>\n",
       "      <th>0</th>\n",
       "      <td> 1966-02-01</td>\n",
       "      <td> Martin, William M.</td>\n",
       "      <td> 4.42</td>\n",
       "      <td> 4</td>\n",
       "      <td> 4201.891</td>\n",
       "      <td> 4.0</td>\n",
       "      <td> 31.88</td>\n",
       "      <td> 63.5</td>\n",
       "      <td>   40.26076</td>\n",
       "      <td> 1</td>\n",
       "      <td> 33</td>\n",
       "      <td> 1</td>\n",
       "    </tr>\n",
       "    <tr>\n",
       "      <th>1</th>\n",
       "      <td> 1966-03-01</td>\n",
       "      <td> Martin, William M.</td>\n",
       "      <td> 4.60</td>\n",
       "      <td> 5</td>\n",
       "      <td> 4201.891</td>\n",
       "      <td> 3.8</td>\n",
       "      <td> 32.08</td>\n",
       "      <td> 63.5</td>\n",
       "      <td> 4201.89100</td>\n",
       "      <td> 1</td>\n",
       "      <td> 32</td>\n",
       "      <td> 1</td>\n",
       "    </tr>\n",
       "    <tr>\n",
       "      <th>2</th>\n",
       "      <td> 1966-04-01</td>\n",
       "      <td> Martin, William M.</td>\n",
       "      <td> 4.65</td>\n",
       "      <td> 6</td>\n",
       "      <td> 4201.891</td>\n",
       "      <td> 3.8</td>\n",
       "      <td> 32.18</td>\n",
       "      <td> 63.5</td>\n",
       "      <td> 4201.89100</td>\n",
       "      <td> 1</td>\n",
       "      <td> 31</td>\n",
       "      <td> 1</td>\n",
       "    </tr>\n",
       "    <tr>\n",
       "      <th>3</th>\n",
       "      <td> 1966-05-01</td>\n",
       "      <td> Martin, William M.</td>\n",
       "      <td> 4.67</td>\n",
       "      <td> 7</td>\n",
       "      <td> 4219.097</td>\n",
       "      <td> 3.8</td>\n",
       "      <td> 32.28</td>\n",
       "      <td> 63.2</td>\n",
       "      <td>   39.15969</td>\n",
       "      <td> 1</td>\n",
       "      <td> 30</td>\n",
       "      <td> 1</td>\n",
       "    </tr>\n",
       "    <tr>\n",
       "      <th>4</th>\n",
       "      <td> 1966-06-01</td>\n",
       "      <td> Martin, William M.</td>\n",
       "      <td> 4.90</td>\n",
       "      <td> 8</td>\n",
       "      <td> 4219.097</td>\n",
       "      <td> 3.9</td>\n",
       "      <td> 32.35</td>\n",
       "      <td> 63.2</td>\n",
       "      <td> 4219.09700</td>\n",
       "      <td> 1</td>\n",
       "      <td> 29</td>\n",
       "      <td> 1</td>\n",
       "    </tr>\n",
       "  </tbody>\n",
       "</table>\n",
       "</div>"
      ],
      "text/plain": [
       "         Date            Chairman  PreviousRate  Streak       GDP  \\\n",
       "0  1966-02-01  Martin, William M.          4.42       4  4201.891   \n",
       "1  1966-03-01  Martin, William M.          4.60       5  4201.891   \n",
       "2  1966-04-01  Martin, William M.          4.65       6  4201.891   \n",
       "3  1966-05-01  Martin, William M.          4.67       7  4219.097   \n",
       "4  1966-06-01  Martin, William M.          4.90       8  4219.097   \n",
       "\n",
       "   Unemployment    CPI  HomeownershipRate  DebtAsPctGDP  DemocraticPres  \\\n",
       "0           4.0  31.88               63.5      40.26076               1   \n",
       "1           3.8  32.08               63.5    4201.89100               1   \n",
       "2           3.8  32.18               63.5    4201.89100               1   \n",
       "3           3.8  32.28               63.2      39.15969               1   \n",
       "4           3.9  32.35               63.2    4219.09700               1   \n",
       "\n",
       "   MonthsUntilElection  RaisedFedFunds  \n",
       "0                   33               1  \n",
       "1                   32               1  \n",
       "2                   31               1  \n",
       "3                   30               1  \n",
       "4                   29               1  "
      ]
     },
     "execution_count": 3,
     "metadata": {},
     "output_type": "execute_result"
    }
   ],
   "source": [
    "rates.head()"
   ]
  },
  {
   "cell_type": "code",
   "execution_count": 4,
   "metadata": {
    "collapsed": false
   },
   "outputs": [
    {
     "data": {
      "text/plain": [
       "1    0.502564\n",
       "0    0.497436\n",
       "dtype: float64"
      ]
     },
     "execution_count": 4,
     "metadata": {},
     "output_type": "execute_result"
    }
   ],
   "source": [
    "rates.RaisedFedFunds.value_counts()/len(rates)"
   ]
  },
  {
   "cell_type": "code",
   "execution_count": 5,
   "metadata": {
    "collapsed": false
   },
   "outputs": [
    {
     "data": {
      "text/plain": [
       "Greenspan, Alan       221\n",
       "Volcker, Paul          96\n",
       "Bernanke, Ben          96\n",
       "Burns, Arthur          96\n",
       "Martin, William M.     48\n",
       "Miller, G. William     17\n",
       "Yellen, Janet           9\n",
       "dtype: int64"
      ]
     },
     "execution_count": 5,
     "metadata": {},
     "output_type": "execute_result"
    }
   ],
   "source": [
    "rates.Chairman.value_counts()"
   ]
  },
  {
   "cell_type": "code",
   "execution_count": 6,
   "metadata": {
    "collapsed": false
   },
   "outputs": [],
   "source": [
    "rates.RaisedFedFunds = rates.RaisedFedFunds.astype('category')\n",
    "train, test = train_test_split(rates, train_size=.7, test_size=.3, random_state=200)\n",
    "#seed in python will not give same result as seed in R"
   ]
  },
  {
   "cell_type": "code",
   "execution_count": 7,
   "metadata": {
    "collapsed": false,
    "scrolled": false
   },
   "outputs": [
    {
     "data": {
      "text/html": [
       "<table class=\"simpletable\">\n",
       "<caption>Generalized Linear Model Regression Results</caption>\n",
       "<tr>\n",
       "  <th>Dep. Variable:</th>   <td>RaisedFedFunds</td>  <th>  No. Observations:  </th>  <td>   409</td> \n",
       "</tr>\n",
       "<tr>\n",
       "  <th>Model:</th>                 <td>GLM</td>       <th>  Df Residuals:      </th>  <td>   402</td> \n",
       "</tr>\n",
       "<tr>\n",
       "  <th>Model Family:</th>       <td>Binomial</td>     <th>  Df Model:          </th>  <td>     6</td> \n",
       "</tr>\n",
       "<tr>\n",
       "  <th>Link Function:</th>        <td>logit</td>      <th>  Scale:             </th>    <td>1.0</td>  \n",
       "</tr>\n",
       "<tr>\n",
       "  <th>Method:</th>               <td>IRLS</td>       <th>  Log-Likelihood:    </th> <td> -249.88</td>\n",
       "</tr>\n",
       "<tr>\n",
       "  <th>Date:</th>           <td>Fri, 21 Aug 2015</td> <th>  Deviance:          </th> <td>  499.77</td>\n",
       "</tr>\n",
       "<tr>\n",
       "  <th>Time:</th>               <td>11:14:28</td>     <th>  Pearson chi2:      </th>  <td>  449.</td> \n",
       "</tr>\n",
       "<tr>\n",
       "  <th>No. Iterations:</th>         <td>5</td>        <th>                     </th>     <td> </td>   \n",
       "</tr>\n",
       "</table>\n",
       "<table class=\"simpletable\">\n",
       "<tr>\n",
       "             <td></td>               <th>coef</th>     <th>std err</th>      <th>t</th>      <th>P>|t|</th> <th>[95.0% Conf. Int.]</th> \n",
       "</tr>\n",
       "<tr>\n",
       "  <th>Intercept</th>              <td>    8.0955</td> <td>    5.201</td> <td>    1.557</td> <td> 0.120</td> <td>   -2.097    18.288</td>\n",
       "</tr>\n",
       "<tr>\n",
       "  <th>C(DemocraticPres)[T.1]</th> <td>    0.3597</td> <td>    0.229</td> <td>    1.571</td> <td> 0.116</td> <td>   -0.089     0.808</td>\n",
       "</tr>\n",
       "<tr>\n",
       "  <th>PreviousRate</th>           <td>    0.0045</td> <td>    0.032</td> <td>    0.140</td> <td> 0.889</td> <td>   -0.058     0.067</td>\n",
       "</tr>\n",
       "<tr>\n",
       "  <th>Streak</th>                 <td>    0.1416</td> <td>    0.024</td> <td>    5.921</td> <td> 0.000</td> <td>    0.095     0.188</td>\n",
       "</tr>\n",
       "<tr>\n",
       "  <th>Unemployment</th>           <td>   -0.0790</td> <td>    0.065</td> <td>   -1.221</td> <td> 0.222</td> <td>   -0.206     0.048</td>\n",
       "</tr>\n",
       "<tr>\n",
       "  <th>HomeownershipRate</th>      <td>   -0.1177</td> <td>    0.078</td> <td>   -1.512</td> <td> 0.130</td> <td>   -0.270     0.035</td>\n",
       "</tr>\n",
       "<tr>\n",
       "  <th>MonthsUntilElection</th>    <td>   -0.0059</td> <td>    0.008</td> <td>   -0.775</td> <td> 0.438</td> <td>   -0.021     0.009</td>\n",
       "</tr>\n",
       "</table>"
      ],
      "text/plain": [
       "<class 'statsmodels.iolib.summary.Summary'>\n",
       "\"\"\"\n",
       "                 Generalized Linear Model Regression Results                  \n",
       "==============================================================================\n",
       "Dep. Variable:         RaisedFedFunds   No. Observations:                  409\n",
       "Model:                            GLM   Df Residuals:                      402\n",
       "Model Family:                Binomial   Df Model:                            6\n",
       "Link Function:                  logit   Scale:                             1.0\n",
       "Method:                          IRLS   Log-Likelihood:                -249.88\n",
       "Date:                Fri, 21 Aug 2015   Deviance:                       499.77\n",
       "Time:                        11:14:28   Pearson chi2:                     449.\n",
       "No. Iterations:                     5                                         \n",
       "==========================================================================================\n",
       "                             coef    std err          t      P>|t|      [95.0% Conf. Int.]\n",
       "------------------------------------------------------------------------------------------\n",
       "Intercept                  8.0955      5.201      1.557      0.120        -2.097    18.288\n",
       "C(DemocraticPres)[T.1]     0.3597      0.229      1.571      0.116        -0.089     0.808\n",
       "PreviousRate               0.0045      0.032      0.140      0.889        -0.058     0.067\n",
       "Streak                     0.1416      0.024      5.921      0.000         0.095     0.188\n",
       "Unemployment              -0.0790      0.065     -1.221      0.222        -0.206     0.048\n",
       "HomeownershipRate         -0.1177      0.078     -1.512      0.130        -0.270     0.035\n",
       "MonthsUntilElection       -0.0059      0.008     -0.775      0.438        -0.021     0.009\n",
       "==========================================================================================\n",
       "\"\"\""
      ]
     },
     "execution_count": 7,
     "metadata": {},
     "output_type": "execute_result"
    }
   ],
   "source": [
    "mod1 = smf.glm('RaisedFedFunds ~ PreviousRate + Streak + Unemployment + HomeownershipRate + C(DemocraticPres)' \\\n",
    "               '+ MonthsUntilElection', data = train, family=sm.families.Binomial()).fit()\n",
    "mod1.summary()"
   ]
  },
  {
   "cell_type": "code",
   "execution_count": 8,
   "metadata": {
    "collapsed": false
   },
   "outputs": [
    {
     "data": {
      "text/html": [
       "<div style=\"max-height:1000px;max-width:1500px;overflow:auto;\">\n",
       "<table border=\"1\" class=\"dataframe\">\n",
       "  <thead>\n",
       "    <tr style=\"text-align: right;\">\n",
       "      <th>Predicted</th>\n",
       "      <th>False</th>\n",
       "      <th>True</th>\n",
       "      <th>All</th>\n",
       "    </tr>\n",
       "    <tr>\n",
       "      <th>Actual</th>\n",
       "      <th></th>\n",
       "      <th></th>\n",
       "      <th></th>\n",
       "    </tr>\n",
       "  </thead>\n",
       "  <tbody>\n",
       "    <tr>\n",
       "      <th>0</th>\n",
       "      <td> 28</td>\n",
       "      <td> 65</td>\n",
       "      <td>  93</td>\n",
       "    </tr>\n",
       "    <tr>\n",
       "      <th>1</th>\n",
       "      <td> 59</td>\n",
       "      <td> 24</td>\n",
       "      <td>  83</td>\n",
       "    </tr>\n",
       "    <tr>\n",
       "      <th>All</th>\n",
       "      <td> 87</td>\n",
       "      <td> 89</td>\n",
       "      <td> 176</td>\n",
       "    </tr>\n",
       "  </tbody>\n",
       "</table>\n",
       "</div>"
      ],
      "text/plain": [
       "Predicted  False  True  All\n",
       "Actual                     \n",
       "0             28    65   93\n",
       "1             59    24   83\n",
       "All           87    89  176"
      ]
     },
     "execution_count": 8,
     "metadata": {},
     "output_type": "execute_result"
    }
   ],
   "source": [
    "pred_test = mod1.predict(test)\n",
    "conf_mtx = pd.crosstab(test.RaisedFedFunds, pred_test < 0.5, rownames=['Actual'], colnames=['Predicted'], margins=True)\n",
    "conf_mtx"
   ]
  },
  {
   "cell_type": "markdown",
   "metadata": {},
   "source": [
    "Predicted probability that the interest rate will be raised given:\n",
    "Streak=-3, PreviousRate=1.7, Unemployment=5.1, HomeownershipRate=65.3, DemocraticPres=0, MonthsUntilElection=18 "
   ]
  },
  {
   "cell_type": "code",
   "execution_count": 9,
   "metadata": {
    "collapsed": false
   },
   "outputs": [
    {
     "data": {
      "text/plain": [
       "0.37405468218339666"
      ]
     },
     "execution_count": 9,
     "metadata": {},
     "output_type": "execute_result"
    }
   ],
   "source": [
    "odds = math.exp(mod1.params.ix['C(DemocraticPres)[T.1]']) # odds of rates being raised when president is Democratic\n",
    "1/(1+math.exp(-sum(mod1.params * [1, 0, 1.7, -3, 5.1, 65.3, 18])))"
   ]
  },
  {
   "cell_type": "code",
   "execution_count": 10,
   "metadata": {
    "collapsed": false
   },
   "outputs": [
    {
     "data": {
      "text/plain": [
       "0.37405468218339077"
      ]
     },
     "execution_count": 10,
     "metadata": {},
     "output_type": "execute_result"
    }
   ],
   "source": [
    "# building logistic regression using sm\n",
    "train2 = train.copy()\n",
    "train2.DemocraticPres = train2.DemocraticPres.astype('category')\n",
    "_dummies = pd.get_dummies(train2.DemocraticPres, prefix='DemocraticPres').iloc[:, 1:] \n",
    "train2 = pd.concat([train2, _dummies], axis=1) \n",
    "train2 = sm.add_constant(train2)\n",
    "mod2 = sm.GLM(train2['RaisedFedFunds'], train2[['PreviousRate','Streak','Unemployment',\\\n",
    "                                            'HomeownershipRate','DemocraticPres_1', 'MonthsUntilElection', 'const']],\n",
    "              family= sm.families.Binomial()).fit()\n",
    "mod2.summary()\n",
    "mod2.predict(np.array([1.7, -3, 5.1, 65.3, 0, 18, 1]))"
   ]
  },
  {
   "cell_type": "code",
   "execution_count": 11,
   "metadata": {
    "collapsed": false
   },
   "outputs": [
    {
     "data": {
      "text/html": [
       "<div style=\"max-height:1000px;max-width:1500px;overflow:auto;\">\n",
       "<table border=\"1\" class=\"dataframe\">\n",
       "  <thead>\n",
       "    <tr style=\"text-align: right;\">\n",
       "      <th>Predicted</th>\n",
       "      <th>False</th>\n",
       "      <th>True</th>\n",
       "      <th>All</th>\n",
       "    </tr>\n",
       "    <tr>\n",
       "      <th>Actual</th>\n",
       "      <th></th>\n",
       "      <th></th>\n",
       "      <th></th>\n",
       "    </tr>\n",
       "  </thead>\n",
       "  <tbody>\n",
       "    <tr>\n",
       "      <th>0</th>\n",
       "      <td> 28</td>\n",
       "      <td> 65</td>\n",
       "      <td>  93</td>\n",
       "    </tr>\n",
       "    <tr>\n",
       "      <th>1</th>\n",
       "      <td> 59</td>\n",
       "      <td> 24</td>\n",
       "      <td>  83</td>\n",
       "    </tr>\n",
       "    <tr>\n",
       "      <th>All</th>\n",
       "      <td> 87</td>\n",
       "      <td> 89</td>\n",
       "      <td> 176</td>\n",
       "    </tr>\n",
       "  </tbody>\n",
       "</table>\n",
       "</div>"
      ],
      "text/plain": [
       "Predicted  False  True  All\n",
       "Actual                     \n",
       "0             28    65   93\n",
       "1             59    24   83\n",
       "All           87    89  176"
      ]
     },
     "execution_count": 11,
     "metadata": {},
     "output_type": "execute_result"
    }
   ],
   "source": [
    "test2 = test.copy()\n",
    "test2.DemocraticPres = test2.DemocraticPres.astype('category')\n",
    "_dummies = pd.get_dummies(test2.DemocraticPres, prefix='DemocraticPres').iloc[:, 1:] \n",
    "test2 = pd.concat([test2, _dummies], axis=1) \n",
    "test2 = sm.add_constant(test2)\n",
    "pred_test2 = mod2.predict(test2[['PreviousRate','Streak','Unemployment',\\\n",
    "                                            'HomeownershipRate','DemocraticPres_1', 'MonthsUntilElection', 'const']])\n",
    "conf_mtx2 = pd.crosstab(test.RaisedFedFunds, pred_test2 < 0.5, rownames=['Actual'], colnames=['Predicted'], margins=True)\n",
    "conf_mtx2 #pd.crosstab has more description than sklearn confusion_matrix; confusion_matrix(test2.RaisedFedFunds, pred_test<0.5, labels=[False,True])"
   ]
  },
  {
   "cell_type": "code",
   "execution_count": 12,
   "metadata": {
    "collapsed": false
   },
   "outputs": [
    {
     "data": {
      "text/plain": [
       "(array([[ 0.00448308,  0.14157045, -0.07901033, -0.11748451,  0.35970539,\n",
       "         -0.00592208]]), array([ 8.08335245]))"
      ]
     },
     "execution_count": 12,
     "metadata": {},
     "output_type": "execute_result"
    }
   ],
   "source": [
    "# using sklearn for predictions\n",
    "train3 = train.copy()\n",
    "test3 = test.copy()\n",
    "train3.DemocraticPres = train3.DemocraticPres.astype('category')\n",
    "test3.DemocraticPres = test3.DemocraticPres.astype('category')\n",
    "mod3 = LogisticRegression(C=100000) #no regularization\n",
    "mod3.fit(train3[['PreviousRate','Streak','Unemployment','HomeownershipRate','DemocraticPres', 'MonthsUntilElection']],\n",
    "         train3.RaisedFedFunds)\n",
    "mod3.coef_, mod3.intercept_"
   ]
  },
  {
   "cell_type": "code",
   "execution_count": 13,
   "metadata": {
    "collapsed": false,
    "scrolled": true
   },
   "outputs": [],
   "source": [
    "pred_test3 = mod3.predict(test3[['PreviousRate','Streak','Unemployment','HomeownershipRate','DemocraticPres', 'MonthsUntilElection']])\n",
    "#prediction probability for 0 or 1 (RaisedFedFunds)\n",
    "pred_test3_prob = pd.DataFrame(mod3.predict_proba(test3[['PreviousRate','Streak','Unemployment','HomeownershipRate',\\\n",
    "                                       'DemocraticPres', 'MonthsUntilElection']]), columns = mod3.classes_) \n",
    "conf_mtx3 = pd.crosstab(test.RaisedFedFunds, pred_test3 < 0.5, rownames=['Actual'], colnames=['Predicted'], margins=True)"
   ]
  },
  {
   "cell_type": "code",
   "execution_count": null,
   "metadata": {
    "collapsed": true
   },
   "outputs": [],
   "source": [
    "# perform cross validation use cross_val_score\n",
    "# create CART model use tree\n",
    "# compute confusion matrix and accuracy of CART model ~ 64%"
   ]
  }
 ],
 "metadata": {
  "kernelspec": {
   "display_name": "Python 2",
   "language": "python",
   "name": "python2"
  },
  "language_info": {
   "codemirror_mode": {
    "name": "ipython",
    "version": 2
   },
   "file_extension": ".py",
   "mimetype": "text/x-python",
   "name": "python",
   "nbconvert_exporter": "python",
   "pygments_lexer": "ipython2",
   "version": "2.7.9"
  }
 },
 "nbformat": 4,
 "nbformat_minor": 0
}
